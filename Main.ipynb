{
 "cells": [
  {
   "cell_type": "code",
   "execution_count": 9,
   "metadata": {},
   "outputs": [],
   "source": [
    "import numpy as np\n",
    "import matplotlib.pylab as plt\n",
    "import pandas as pd\n",
    "from scipy import stats\n",
    "import random\n",
    "import math\n",
    "import datetime\n",
    "%matplotlib inline"
   ]
  },
  {
   "cell_type": "code",
   "execution_count": 10,
   "metadata": {},
   "outputs": [],
   "source": [
    "import dask.dataframe as dd"
   ]
  },
  {
   "cell_type": "code",
   "execution_count": 11,
   "metadata": {},
   "outputs": [],
   "source": [
    "colNames=['Date','Source','Target','CAMEOCode','NumEvents','NumArts','QuadClass','Goldstein','SourceGeoType','SourceGeoLat','SourceGeoLong','TargetGeoType','TargetGeoLat','TargetGeoLong','ActionGeoType','ActionGeoLat','ActionGeoLong']"
   ]
  },
  {
   "cell_type": "code",
   "execution_count": 12,
   "metadata": {},
   "outputs": [],
   "source": [
    "dtypes={'Date':np.int32,'Source':np.str,'Target':np.str,'CAMEOCode':np.float16,'NumEvents':np.int16,'NumArts':np.int8,'QuadClass':np.int8,'Goldstein':np.float16,'SourceGeoType':np.float16,'SourceGeoLat':np.float16,'SourceGeoLong':np.float16,'TargetGeoType':np.float16,'TargetGeoLat':np.float16,'TargetGeoLong':np.float16,'ActionGeoType':np.float16,'ActionGeoLat':np.float16,'ActionGeoLong':np.float16}"
   ]
  },
  {
   "cell_type": "code",
   "execution_count": 13,
   "metadata": {},
   "outputs": [],
   "source": [
    "df = dd.read_csv(r\"C:\\Users\\Andrews Lab\\CSCI4502\\GDELT.txt\", sep=\"\\t\", names = colNames, dtype = dtypes, skiprows = 1)"
   ]
  },
  {
   "cell_type": "code",
   "execution_count": 14,
   "metadata": {},
   "outputs": [
    {
     "data": {
      "text/html": [
       "<div>\n",
       "<style scoped>\n",
       "    .dataframe tbody tr th:only-of-type {\n",
       "        vertical-align: middle;\n",
       "    }\n",
       "\n",
       "    .dataframe tbody tr th {\n",
       "        vertical-align: top;\n",
       "    }\n",
       "\n",
       "    .dataframe thead th {\n",
       "        text-align: right;\n",
       "    }\n",
       "</style>\n",
       "<table border=\"1\" class=\"dataframe\">\n",
       "  <thead>\n",
       "    <tr style=\"text-align: right;\">\n",
       "      <th></th>\n",
       "      <th>Date</th>\n",
       "      <th>Source</th>\n",
       "      <th>Target</th>\n",
       "      <th>CAMEOCode</th>\n",
       "      <th>NumEvents</th>\n",
       "      <th>NumArts</th>\n",
       "      <th>QuadClass</th>\n",
       "      <th>Goldstein</th>\n",
       "      <th>SourceGeoType</th>\n",
       "      <th>SourceGeoLat</th>\n",
       "      <th>SourceGeoLong</th>\n",
       "      <th>TargetGeoType</th>\n",
       "      <th>TargetGeoLat</th>\n",
       "      <th>TargetGeoLong</th>\n",
       "      <th>ActionGeoType</th>\n",
       "      <th>ActionGeoLat</th>\n",
       "      <th>ActionGeoLong</th>\n",
       "    </tr>\n",
       "  </thead>\n",
       "  <tbody>\n",
       "    <tr>\n",
       "      <th>681508</th>\n",
       "      <td>20140218</td>\n",
       "      <td>USA</td>\n",
       "      <td>USAMED</td>\n",
       "      <td>42.0</td>\n",
       "      <td>2</td>\n",
       "      <td>10</td>\n",
       "      <td>1</td>\n",
       "      <td>1.900391</td>\n",
       "      <td>3.0</td>\n",
       "      <td>38.90625</td>\n",
       "      <td>-77.0625</td>\n",
       "      <td>4.0</td>\n",
       "      <td>19.28125</td>\n",
       "      <td>-99.6875</td>\n",
       "      <td>4.0</td>\n",
       "      <td>19.28125</td>\n",
       "      <td>-99.6875</td>\n",
       "    </tr>\n",
       "    <tr>\n",
       "      <th>681509</th>\n",
       "      <td>20140218</td>\n",
       "      <td>VEN</td>\n",
       "      <td>JUD</td>\n",
       "      <td>20.0</td>\n",
       "      <td>1</td>\n",
       "      <td>4</td>\n",
       "      <td>1</td>\n",
       "      <td>3.000000</td>\n",
       "      <td>3.0</td>\n",
       "      <td>38.90625</td>\n",
       "      <td>-77.0625</td>\n",
       "      <td>3.0</td>\n",
       "      <td>38.90625</td>\n",
       "      <td>-77.0625</td>\n",
       "      <td>4.0</td>\n",
       "      <td>19.28125</td>\n",
       "      <td>-99.6875</td>\n",
       "    </tr>\n",
       "    <tr>\n",
       "      <th>681510</th>\n",
       "      <td>20140218</td>\n",
       "      <td>VEN</td>\n",
       "      <td>JUD</td>\n",
       "      <td>51.0</td>\n",
       "      <td>1</td>\n",
       "      <td>6</td>\n",
       "      <td>1</td>\n",
       "      <td>3.400391</td>\n",
       "      <td>4.0</td>\n",
       "      <td>10.50000</td>\n",
       "      <td>-66.9375</td>\n",
       "      <td>4.0</td>\n",
       "      <td>10.50000</td>\n",
       "      <td>-66.9375</td>\n",
       "      <td>4.0</td>\n",
       "      <td>10.50000</td>\n",
       "      <td>-66.9375</td>\n",
       "    </tr>\n",
       "    <tr>\n",
       "      <th>681511</th>\n",
       "      <td>20140218</td>\n",
       "      <td>VENOPP</td>\n",
       "      <td>VENGOV</td>\n",
       "      <td>141.0</td>\n",
       "      <td>1</td>\n",
       "      <td>1</td>\n",
       "      <td>3</td>\n",
       "      <td>-6.500000</td>\n",
       "      <td>4.0</td>\n",
       "      <td>10.50000</td>\n",
       "      <td>-66.9375</td>\n",
       "      <td>4.0</td>\n",
       "      <td>10.50000</td>\n",
       "      <td>-66.9375</td>\n",
       "      <td>4.0</td>\n",
       "      <td>10.50000</td>\n",
       "      <td>-66.9375</td>\n",
       "    </tr>\n",
       "    <tr>\n",
       "      <th>681512</th>\n",
       "      <td>20140218</td>\n",
       "      <td>VEN</td>\n",
       "      <td>USAGOV</td>\n",
       "      <td>114.0</td>\n",
       "      <td>1</td>\n",
       "      <td>5</td>\n",
       "      <td>3</td>\n",
       "      <td>-2.000000</td>\n",
       "      <td>4.0</td>\n",
       "      <td>10.50000</td>\n",
       "      <td>-66.9375</td>\n",
       "      <td>4.0</td>\n",
       "      <td>10.50000</td>\n",
       "      <td>-66.9375</td>\n",
       "      <td>4.0</td>\n",
       "      <td>10.50000</td>\n",
       "      <td>-66.9375</td>\n",
       "    </tr>\n",
       "  </tbody>\n",
       "</table>\n",
       "</div>"
      ],
      "text/plain": [
       "            Date  Source  Target  CAMEOCode  NumEvents  NumArts  QuadClass  \\\n",
       "681508  20140218     USA  USAMED       42.0          2       10          1   \n",
       "681509  20140218     VEN     JUD       20.0          1        4          1   \n",
       "681510  20140218     VEN     JUD       51.0          1        6          1   \n",
       "681511  20140218  VENOPP  VENGOV      141.0          1        1          3   \n",
       "681512  20140218     VEN  USAGOV      114.0          1        5          3   \n",
       "\n",
       "        Goldstein  SourceGeoType  SourceGeoLat  SourceGeoLong  TargetGeoType  \\\n",
       "681508   1.900391            3.0      38.90625       -77.0625            4.0   \n",
       "681509   3.000000            3.0      38.90625       -77.0625            3.0   \n",
       "681510   3.400391            4.0      10.50000       -66.9375            4.0   \n",
       "681511  -6.500000            4.0      10.50000       -66.9375            4.0   \n",
       "681512  -2.000000            4.0      10.50000       -66.9375            4.0   \n",
       "\n",
       "        TargetGeoLat  TargetGeoLong  ActionGeoType  ActionGeoLat  \\\n",
       "681508      19.28125       -99.6875            4.0      19.28125   \n",
       "681509      38.90625       -77.0625            4.0      19.28125   \n",
       "681510      10.50000       -66.9375            4.0      10.50000   \n",
       "681511      10.50000       -66.9375            4.0      10.50000   \n",
       "681512      10.50000       -66.9375            4.0      10.50000   \n",
       "\n",
       "        ActionGeoLong  \n",
       "681508       -99.6875  \n",
       "681509       -99.6875  \n",
       "681510       -66.9375  \n",
       "681511       -66.9375  \n",
       "681512       -66.9375  "
      ]
     },
     "execution_count": 14,
     "metadata": {},
     "output_type": "execute_result"
    }
   ],
   "source": [
    "df.tail()"
   ]
  },
  {
   "cell_type": "code",
   "execution_count": 15,
   "metadata": {},
   "outputs": [
    {
     "data": {
      "text/plain": [
       "Date               int32\n",
       "Source            object\n",
       "Target            object\n",
       "CAMEOCode        float16\n",
       "NumEvents          int16\n",
       "NumArts             int8\n",
       "QuadClass           int8\n",
       "Goldstein        float16\n",
       "SourceGeoType    float16\n",
       "SourceGeoLat     float16\n",
       "SourceGeoLong    float16\n",
       "TargetGeoType    float16\n",
       "TargetGeoLat     float16\n",
       "TargetGeoLong    float16\n",
       "ActionGeoType    float16\n",
       "ActionGeoLat     float16\n",
       "ActionGeoLong    float16\n",
       "dtype: object"
      ]
     },
     "execution_count": 15,
     "metadata": {},
     "output_type": "execute_result"
    }
   ],
   "source": [
    "df.dtypes"
   ]
  },
  {
   "cell_type": "code",
   "execution_count": 60,
   "metadata": {},
   "outputs": [],
   "source": [
    "srcCount = df.Source.value_counts().compute()"
   ]
  },
  {
   "cell_type": "code",
   "execution_count": 61,
   "metadata": {},
   "outputs": [
    {
     "name": "stdout",
     "output_type": "stream",
     "text": [
      "GOV                6010092\n",
      "USA                5464739\n",
      "COP                1983510\n",
      "MED                1722385\n",
      "RUS                1716306\n",
      "BUS                1668919\n",
      "GBR                1534492\n",
      "MIL                1462459\n",
      "CHN                1411817\n",
      "CVL                1352427\n",
      "ISR                1330888\n",
      "LEG                1322498\n",
      "JUD                1252119\n",
      "USAGOV             1227550\n",
      "EDU                1107509\n",
      "IRN                1030853\n",
      "FRA                 944207\n",
      "PAK                 902266\n",
      "IRQ                 864633\n",
      "OPP                 783877\n",
      "DEU                 743619\n",
      "AUS                 719248\n",
      "JPN                 709783\n",
      "AFR                 708431\n",
      "AFG                 686615\n",
      "TUR                 683704\n",
      "CAN                 683519\n",
      "EGY                 682600\n",
      "SYR                 596195\n",
      "PSE                 585662\n",
      "                    ...   \n",
      "MNCUAFMIL                1\n",
      "COLOPPUAF                1\n",
      "MNCRUSMEDELI             1\n",
      "MNCSEACVL                1\n",
      "harMOS                   1\n",
      "MNCSGPLAB                1\n",
      "COLINS                   1\n",
      "MNCSWEMEDGOV             1\n",
      "COLGOVUAF                1\n",
      "harCVL                   1\n",
      "MNCTWNMEDLEG             1\n",
      "MNCTWNMEDMIL             1\n",
      "COLGOVJUDELI             1\n",
      "sinJUD                   1\n",
      "MNCUSAAGRCOP             1\n",
      "MNCUSAMEDOPP             1\n",
      "MNCUSAAGREDU             1\n",
      "MNCUSAAGRMIL             1\n",
      "COLGOVDEVGOVENV          1\n",
      "haiJUD                   1\n",
      "MNCUSAEDUBUS             1\n",
      "MNCUSAGOVMIL             1\n",
      "gunUAF                   1\n",
      "MNCUSAHLHCOP             1\n",
      "MNCUSAHLHMIL             1\n",
      "MNCUSAHLHREL             1\n",
      "gunREL                   1\n",
      "gunLAB                   1\n",
      "MNCUSAMEDHLH             1\n",
      "MYSGOVHLHELI             1\n",
      "Name: Source, Length: 22107, dtype: int64\n"
     ]
    }
   ],
   "source": [
    "print(srcCount)"
   ]
  },
  {
   "cell_type": "code",
   "execution_count": 40,
   "metadata": {},
   "outputs": [],
   "source": [
    "Pre1991 = df.where(df[\"Date\"] < 19911231, np.nan)"
   ]
  },
  {
   "cell_type": "code",
   "execution_count": 39,
   "metadata": {},
   "outputs": [],
   "source": [
    "Post1991 = df.where(df[\"Date\"] > 19920000, np.nan)"
   ]
  },
  {
   "cell_type": "code",
   "execution_count": 42,
   "metadata": {},
   "outputs": [],
   "source": [
    "stalin1 = Pre1991.where(Pre1991[\"Source\"] == \"RUS\")\n",
    "stalin2 = Pre1991.where(Pre1991[\"Target\"] == \"RUS\")\n",
    "putin1 = Post1991.where(Post1991[\"Source\"] == \"RUS\")\n",
    "putin2 = Post1991.where(Post1991[\"Target\"] == \"RUS\")"
   ]
  },
  {
   "cell_type": "code",
   "execution_count": 43,
   "metadata": {},
   "outputs": [],
   "source": [
    "r1 = stalin1.QuadClass.value_counts().compute()"
   ]
  },
  {
   "cell_type": "code",
   "execution_count": 47,
   "metadata": {},
   "outputs": [],
   "source": [
    "r2 = stalin2.QuadClass.value_counts().compute()"
   ]
  },
  {
   "cell_type": "code",
   "execution_count": 48,
   "metadata": {},
   "outputs": [],
   "source": [
    "r3 = putin1.QuadClass.value_counts().compute()"
   ]
  },
  {
   "cell_type": "code",
   "execution_count": 49,
   "metadata": {},
   "outputs": [],
   "source": [
    "r4 = putin2.QuadClass.value_counts().compute()"
   ]
  },
  {
   "cell_type": "code",
   "execution_count": 59,
   "metadata": {
    "scrolled": true
   },
   "outputs": [
    {
     "name": "stdout",
     "output_type": "stream",
     "text": [
      "1.0    115537\n",
      "3.0     19222\n",
      "4.0     15250\n",
      "2.0     14539\n",
      "Name: QuadClass, dtype: int64\n",
      "1.0    121105\n",
      "3.0     23132\n",
      "4.0     14340\n",
      "2.0     13344\n",
      "Name: QuadClass, dtype: int64\n",
      "1.0    1014943\n",
      "3.0     201005\n",
      "4.0     180469\n",
      "2.0     155264\n",
      "Name: QuadClass, dtype: int64\n",
      "1.0    905308\n",
      "3.0    161761\n",
      "4.0    141591\n",
      "2.0    120385\n",
      "Name: QuadClass, dtype: int64\n"
     ]
    }
   ],
   "source": [
    "print(r1)\n",
    "print(r2)\n",
    "print(r3)\n",
    "print(r4)"
   ]
  },
  {
   "cell_type": "code",
   "execution_count": 64,
   "metadata": {},
   "outputs": [],
   "source": [
    "t1 = stalin1.where(stalin1[\"Target\"] == \"USA\")\n",
    "t2 = stalin2.where(stalin2[\"Source\"] == \"USA\")\n",
    "t3 = putin1.where(putin1[\"Target\"] == \"USA\")\n",
    "t4 = putin2.where(putin2[\"Source\"] == \"USA\")"
   ]
  },
  {
   "cell_type": "code",
   "execution_count": 65,
   "metadata": {},
   "outputs": [],
   "source": [
    "usa1 = t1.QuadClass.value_counts().compute()\n",
    "#soviet union interacts with usa"
   ]
  },
  {
   "cell_type": "code",
   "execution_count": 66,
   "metadata": {},
   "outputs": [],
   "source": [
    "usa2 = t2.QuadClass.value_counts().compute()\n",
    "#usa interacts with soviet union"
   ]
  },
  {
   "cell_type": "code",
   "execution_count": 67,
   "metadata": {},
   "outputs": [],
   "source": [
    "usa3 = t3.QuadClass.value_counts().compute()\n",
    "#russia interacts with usa"
   ]
  },
  {
   "cell_type": "code",
   "execution_count": 68,
   "metadata": {},
   "outputs": [],
   "source": [
    "usa4 = t4.QuadClass.value_counts().compute()\n",
    "#usa interacts with russia"
   ]
  },
  {
   "cell_type": "code",
   "execution_count": 70,
   "metadata": {},
   "outputs": [
    {
     "name": "stdout",
     "output_type": "stream",
     "text": [
      "1.0    10947\n",
      "3.0     2916\n",
      "4.0     1211\n",
      "2.0     1115\n",
      "Name: QuadClass, dtype: int64\n",
      "1.0    11578\n",
      "3.0     2807\n",
      "2.0     1434\n",
      "4.0     1202\n",
      "Name: QuadClass, dtype: int64\n",
      "1.0    45641\n",
      "3.0    12979\n",
      "2.0     9404\n",
      "4.0     8390\n",
      "Name: QuadClass, dtype: int64\n",
      "1.0    44723\n",
      "3.0    11084\n",
      "2.0     8240\n",
      "4.0     8091\n",
      "Name: QuadClass, dtype: int64\n"
     ]
    }
   ],
   "source": [
    "print(usa1)\n",
    "print(usa2)\n",
    "print(usa3)\n",
    "print(usa4)"
   ]
  },
  {
   "cell_type": "code",
   "execution_count": 117,
   "metadata": {},
   "outputs": [],
   "source": [
    "#SummerOlympicsList\n",
    "#1980, RUS\n",
    "RUSolypre = df.where(df.Date > 19790000).where(df.Date < 19800000).where(df.Source == 'RUS').QuadClass.value_counts().compute()\n",
    "RUSoly = df.where(df.Date > 19800000).where(df.Date < 19810000).where(df.Source == 'RUS').QuadClass.value_counts().compute()\n",
    "RUSolypost = df.where(df.Date > 19810000).where(df.Date < 19820000).where(df.Source == 'RUS').QuadClass.value_counts().compute()"
   ]
  },
  {
   "cell_type": "code",
   "execution_count": 119,
   "metadata": {},
   "outputs": [],
   "source": [
    "#1984, USA\n",
    "USAolypre = df.where(df.Date > 19830000).where(df.Date < 19840000).where(df.Source == 'USA').QuadClass.value_counts().compute()\n",
    "USAoly = df.where(df.Date > 19840000).where(df.Date < 19850000).where(df.Source == 'USA').QuadClass.value_counts().compute()\n",
    "USAolypost = df.where(df.Date > 19850000).where(df.Date < 19860000).where(df.Source == 'USA').QuadClass.value_counts().compute()"
   ]
  },
  {
   "cell_type": "code",
   "execution_count": 120,
   "metadata": {},
   "outputs": [],
   "source": [
    "#1988, KOR\n",
    "KORolypre = df.where(df.Date > 19870000).where(df.Date < 19880000).where(df.Source == 'KOR').QuadClass.value_counts().compute()\n",
    "KORoly = df.where(df.Date > 19880000).where(df.Date < 19890000).where(df.Source == 'KOR').QuadClass.value_counts().compute()\n",
    "KORolypost = df.where(df.Date > 19890000).where(df.Date < 19900000).where(df.Source == 'KOR').QuadClass.value_counts().compute()"
   ]
  },
  {
   "cell_type": "code",
   "execution_count": 123,
   "metadata": {},
   "outputs": [],
   "source": [
    "#1992, ESP\n",
    "ESPolypre = df.where(df.Date > 19910000).where(df.Date < 19920000).where(df.Source == 'ESP').QuadClass.value_counts().compute()\n",
    "ESPoly = df.where(df.Date > 19920000).where(df.Date < 19930000).where(df.Source == 'ESP').QuadClass.value_counts().compute()\n",
    "ESPolypost = df.where(df.Date > 19930000).where(df.Date < 19940000).where(df.Source == 'ESP').QuadClass.value_counts().compute()"
   ]
  },
  {
   "cell_type": "code",
   "execution_count": 125,
   "metadata": {},
   "outputs": [],
   "source": [
    "#1996, USA\n",
    "USAolypre2 = df.where(df.Date > 19950000).where(df.Date < 19960000).where(df.Source == 'USA').QuadClass.value_counts().compute()\n",
    "USAoly2 = df.where(df.Date > 19960000).where(df.Date < 19970000).where(df.Source == 'USA').QuadClass.value_counts().compute()\n",
    "USAolypost2 = df.where(df.Date > 19970000).where(df.Date < 19980000).where(df.Source == 'USA').QuadClass.value_counts().compute()"
   ]
  },
  {
   "cell_type": "code",
   "execution_count": 126,
   "metadata": {},
   "outputs": [],
   "source": [
    "#2000, AUS\n",
    "AUSolypre = df.where(df.Date > 19990000).where(df.Date < 20000000).where(df.Source == 'AUS').QuadClass.value_counts().compute()\n",
    "AUSoly = df.where(df.Date > 20000000).where(df.Date < 20010000).where(df.Source == 'AUS').QuadClass.value_counts().compute()\n",
    "AUSolypost = df.where(df.Date > 20010000).where(df.Date < 20020000).where(df.Source == 'AUS').QuadClass.value_counts().compute()"
   ]
  },
  {
   "cell_type": "code",
   "execution_count": 129,
   "metadata": {},
   "outputs": [],
   "source": [
    "#2004, GRC\n",
    "GRColypre = df.where(df.Date > 20030000).where(df.Date < 20040000).where(df.Source == 'GRC').QuadClass.value_counts().compute()\n",
    "GRColy = df.where(df.Date > 20040000).where(df.Date < 20050000).where(df.Source == 'GRC').QuadClass.value_counts().compute()\n",
    "GRColypost = df.where(df.Date > 20050000).where(df.Date < 20060000).where(df.Source == 'GRC').QuadClass.value_counts().compute()"
   ]
  },
  {
   "cell_type": "code",
   "execution_count": 130,
   "metadata": {},
   "outputs": [],
   "source": [
    "#2008, CHN\n",
    "CHNolypre = df.where(df.Date > 20070000).where(df.Date < 20080000).where(df.Source == 'CHN').QuadClass.value_counts().compute()\n",
    "CHNoly = df.where(df.Date > 20080000).where(df.Date < 20090000).where(df.Source == 'CHN').QuadClass.value_counts().compute()\n",
    "CHNolypost = df.where(df.Date > 20090000).where(df.Date < 20100000).where(df.Source == 'CHN').QuadClass.value_counts().compute()"
   ]
  },
  {
   "cell_type": "code",
   "execution_count": 133,
   "metadata": {},
   "outputs": [],
   "source": [
    "#2012, GBR\n",
    "GBRolypre = df.where(df.Date > 20110000).where(df.Date < 20120000).where(df.Source == 'GBR').QuadClass.value_counts().compute()\n",
    "GBRoly = df.where(df.Date > 20120000).where(df.Date < 20130000).where(df.Source == 'GBR').QuadClass.value_counts().compute()\n",
    "GBRolypost = df.where(df.Date > 20130000).where(df.Date < 20140000).where(df.Source == 'GBR').QuadClass.value_counts().compute()"
   ]
  },
  {
   "cell_type": "code",
   "execution_count": 118,
   "metadata": {},
   "outputs": [
    {
     "name": "stdout",
     "output_type": "stream",
     "text": [
      "1.0    4516\n",
      "3.0     670\n",
      "2.0     580\n",
      "4.0     490\n",
      "Name: QuadClass, dtype: int64\n",
      "1.0    6448\n",
      "3.0    1405\n",
      "4.0    1295\n",
      "2.0    1076\n",
      "Name: QuadClass, dtype: int64\n",
      "1.0    7148\n",
      "3.0    1634\n",
      "4.0    1116\n",
      "2.0     876\n",
      "Name: QuadClass, dtype: int64\n"
     ]
    }
   ],
   "source": [
    "print(RUSolypre)\n",
    "print(RUSoly)\n",
    "print(RUSolypost)"
   ]
  },
  {
   "cell_type": "code",
   "execution_count": 121,
   "metadata": {},
   "outputs": [
    {
     "name": "stdout",
     "output_type": "stream",
     "text": [
      "1.0    18819\n",
      "3.0     4305\n",
      "4.0     3700\n",
      "2.0     2881\n",
      "Name: QuadClass, dtype: int64\n",
      "1.0    18054\n",
      "3.0     4061\n",
      "4.0     3412\n",
      "2.0     2889\n",
      "Name: QuadClass, dtype: int64\n",
      "1.0    21108\n",
      "3.0     4444\n",
      "4.0     3875\n",
      "2.0     3185\n",
      "Name: QuadClass, dtype: int64\n"
     ]
    }
   ],
   "source": [
    "print(USAolypre)\n",
    "print(USAoly)\n",
    "print(USAolypost)"
   ]
  },
  {
   "cell_type": "code",
   "execution_count": 122,
   "metadata": {},
   "outputs": [
    {
     "name": "stdout",
     "output_type": "stream",
     "text": [
      "1.0    1133\n",
      "4.0     365\n",
      "3.0     335\n",
      "2.0     134\n",
      "Name: QuadClass, dtype: int64\n",
      "1.0    1017\n",
      "3.0     281\n",
      "4.0     243\n",
      "2.0      98\n",
      "Name: QuadClass, dtype: int64\n",
      "1.0    1238\n",
      "3.0     346\n",
      "4.0     305\n",
      "2.0     107\n",
      "Name: QuadClass, dtype: int64\n"
     ]
    }
   ],
   "source": [
    "print(KORolypre)\n",
    "print(KORoly)\n",
    "print(KORolypost)"
   ]
  },
  {
   "cell_type": "code",
   "execution_count": 124,
   "metadata": {
    "scrolled": true
   },
   "outputs": [
    {
     "name": "stdout",
     "output_type": "stream",
     "text": [
      "1.0    1675\n",
      "4.0     192\n",
      "3.0     157\n",
      "2.0     121\n",
      "Name: QuadClass, dtype: int64\n",
      "1.0    924\n",
      "4.0    111\n",
      "3.0     91\n",
      "2.0     77\n",
      "Name: QuadClass, dtype: int64\n",
      "1.0    1114\n",
      "4.0     177\n",
      "2.0     145\n",
      "3.0     118\n",
      "Name: QuadClass, dtype: int64\n"
     ]
    }
   ],
   "source": [
    "print(ESPolypre)\n",
    "print(ESPoly)\n",
    "print(ESPolypost)"
   ]
  },
  {
   "cell_type": "code",
   "execution_count": 127,
   "metadata": {},
   "outputs": [
    {
     "name": "stdout",
     "output_type": "stream",
     "text": [
      "1.0    26837\n",
      "3.0     5145\n",
      "4.0     4855\n",
      "2.0     4059\n",
      "Name: QuadClass, dtype: int64\n",
      "1.0    37218\n",
      "3.0     7855\n",
      "4.0     6099\n",
      "2.0     5812\n",
      "Name: QuadClass, dtype: int64\n",
      "1.0    44275\n",
      "3.0     8480\n",
      "2.0     6362\n",
      "4.0     5976\n",
      "Name: QuadClass, dtype: int64\n"
     ]
    }
   ],
   "source": [
    "print(USAolypre2)\n",
    "print(USAoly2)\n",
    "print(USAolypost2)"
   ]
  },
  {
   "cell_type": "code",
   "execution_count": 128,
   "metadata": {},
   "outputs": [
    {
     "name": "stdout",
     "output_type": "stream",
     "text": [
      "1.0    5964\n",
      "2.0    1201\n",
      "4.0    1186\n",
      "3.0    1106\n",
      "Name: QuadClass, dtype: int64\n",
      "1.0    5120\n",
      "3.0     932\n",
      "4.0     719\n",
      "2.0     712\n",
      "Name: QuadClass, dtype: int64\n",
      "1.0    5925\n",
      "3.0    1163\n",
      "2.0     973\n",
      "4.0     962\n",
      "Name: QuadClass, dtype: int64\n"
     ]
    }
   ],
   "source": [
    "print(AUSolypre)\n",
    "print(AUSoly)\n",
    "print(AUSolypost)"
   ]
  },
  {
   "cell_type": "code",
   "execution_count": 131,
   "metadata": {},
   "outputs": [
    {
     "name": "stdout",
     "output_type": "stream",
     "text": [
      "1.0    5645\n",
      "3.0     886\n",
      "4.0     808\n",
      "2.0     515\n",
      "Name: QuadClass, dtype: int64\n",
      "1.0    3264\n",
      "3.0     856\n",
      "4.0     415\n",
      "2.0     281\n",
      "Name: QuadClass, dtype: int64\n",
      "1.0    2185\n",
      "3.0     566\n",
      "4.0     452\n",
      "2.0     260\n",
      "Name: QuadClass, dtype: int64\n"
     ]
    }
   ],
   "source": [
    "print(GRColypre)\n",
    "print(GRColy)\n",
    "print(GRColypost)"
   ]
  },
  {
   "cell_type": "code",
   "execution_count": 132,
   "metadata": {},
   "outputs": [
    {
     "name": "stdout",
     "output_type": "stream",
     "text": [
      "1.0    44173\n",
      "3.0     7693\n",
      "2.0     7608\n",
      "4.0     6116\n",
      "Name: QuadClass, dtype: int64\n",
      "1.0    54038\n",
      "3.0    10321\n",
      "2.0     9607\n",
      "4.0     8363\n",
      "Name: QuadClass, dtype: int64\n",
      "1.0    82982\n",
      "2.0    15428\n",
      "3.0    15312\n",
      "4.0    12815\n",
      "Name: QuadClass, dtype: int64\n"
     ]
    }
   ],
   "source": [
    "print(CHNolypre)\n",
    "print(CHNoly)\n",
    "print(CHNolypost)"
   ]
  },
  {
   "cell_type": "code",
   "execution_count": 134,
   "metadata": {},
   "outputs": [
    {
     "name": "stdout",
     "output_type": "stream",
     "text": [
      "1.0    94773\n",
      "4.0    22773\n",
      "3.0    22678\n",
      "2.0    20014\n",
      "Name: QuadClass, dtype: int64\n",
      "1.0    103958\n",
      "4.0     25156\n",
      "3.0     24515\n",
      "2.0     21417\n",
      "Name: QuadClass, dtype: int64\n",
      "1.0    121750\n",
      "3.0     29362\n",
      "4.0     29018\n",
      "2.0     26740\n",
      "Name: QuadClass, dtype: int64\n"
     ]
    }
   ],
   "source": [
    "print(GBRolypre)\n",
    "print(GBRoly)\n",
    "print(GBRolypost)"
   ]
  },
  {
   "cell_type": "code",
   "execution_count": null,
   "metadata": {},
   "outputs": [],
   "source": []
  }
 ],
 "metadata": {
  "kernelspec": {
   "display_name": "Python 3",
   "language": "python",
   "name": "python3"
  }
 },
 "nbformat": 4,
 "nbformat_minor": 2
}
